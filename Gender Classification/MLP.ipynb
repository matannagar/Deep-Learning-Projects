{
 "cells": [
  {
   "cell_type": "code",
   "execution_count": 1,
   "id": "570b3b31",
   "metadata": {},
   "outputs": [
    {
     "name": "stdout",
     "output_type": "stream",
     "text": [
      "WARNING:tensorflow:From C:\\Users\\matan\\My PC (DESKTOP-RLTMVS3)\\Desktop\\NLP\\Gender Classification\\nlpenv\\lib\\site-packages\\tensorflow\\python\\compat\\v2_compat.py:111: disable_resource_variables (from tensorflow.python.ops.variable_scope) is deprecated and will be removed in a future version.\n",
      "Instructions for updating:\n",
      "non-resource variables are not supported in the long term\n"
     ]
    }
   ],
   "source": [
    "# Imports\n",
    "%matplotlib inline\n",
    "import pandas as pd\n",
    "pd.options.mode.chained_assignment = None\n",
    "import numpy as np\n",
    "import matplotlib.pyplot as plt\n",
    "import seaborn as sns\n",
    "from scipy.stats import norm\n",
    "from sklearn.preprocessing import StandardScaler\n",
    "from scipy import stats\n",
    "import warnings\n",
    "import tensorflow.compat.v1 as tf\n",
    "tf.disable_v2_behavior() "
   ]
  },
  {
   "cell_type": "markdown",
   "id": "0540e02b",
   "metadata": {},
   "source": [
    "## PreProcessing Data"
   ]
  },
  {
   "cell_type": "code",
   "execution_count": 2,
   "id": "085191f3",
   "metadata": {},
   "outputs": [],
   "source": [
    "# file path - this for linux windows you will need \"//\"\n",
    "f_path = \"cardio_train.csv\"\n",
    "\n",
    "df = pd.read_csv(f_path,sep = ';',index_col=0)"
   ]
  },
  {
   "cell_type": "code",
   "execution_count": 3,
   "id": "a6c87e64",
   "metadata": {},
   "outputs": [],
   "source": [
    "df2 = df[['age','gender','height','weight','smoke']]\n",
    "df2['gender'] = df2['gender'].replace({1:0,2:1})"
   ]
  },
  {
   "cell_type": "code",
   "execution_count": 4,
   "id": "ca67a935",
   "metadata": {},
   "outputs": [],
   "source": [
    "'''\n",
    "normalization of the data\n",
    "'''\n",
    "df2['age'] = df['age'].apply(lambda x: x/360)"
   ]
  },
  {
   "cell_type": "code",
   "execution_count": 5,
   "id": "00342f89",
   "metadata": {},
   "outputs": [
    {
     "data": {
      "text/plain": [
       "(             age  gender  height  weight  smoke\n",
       " id                                             \n",
       " 0      51.091667       1     168    62.0      0\n",
       " 1      56.188889       0     156    85.0      0\n",
       " 2      52.380556       0     165    64.0      0\n",
       " 3      48.952778       1     169    82.0      0\n",
       " 4      48.538889       0     156    56.0      0\n",
       " ...          ...     ...     ...     ...    ...\n",
       " 99993  53.444444       1     168    76.0      1\n",
       " 99995  62.780556       0     158   126.0      0\n",
       " 99996  52.961111       1     183   105.0      0\n",
       " 99998  62.308333       0     163    72.0      0\n",
       " 99999  57.055556       0     170    72.0      0\n",
       " \n",
       " [70000 rows x 5 columns],\n",
       " 0    45530\n",
       " 1    24470\n",
       " Name: gender, dtype: int64)"
      ]
     },
     "execution_count": 5,
     "metadata": {},
     "output_type": "execute_result"
    }
   ],
   "source": [
    "'''\n",
    "0 - female\n",
    "1 - male\n",
    "'''\n",
    "df2,df2['gender'].value_counts()"
   ]
  },
  {
   "cell_type": "code",
   "execution_count": 6,
   "id": "b1a96f1a",
   "metadata": {},
   "outputs": [],
   "source": [
    "'''\n",
    "split the dataset into training_set 50K\n",
    "and testing_set 20K\n",
    "'''\n",
    "training_set = df2.head(50000)\n",
    "testing_set = df2.tail(20000)"
   ]
  },
  {
   "cell_type": "code",
   "execution_count": 69,
   "id": "394932e2",
   "metadata": {},
   "outputs": [],
   "source": [
    "features = 4\n",
    "alpha = 0.0002\n",
    "hidden_layer_node = 10\n",
    "eps = 1e-12\n",
    "\n",
    "X = tf.placeholder(tf.float32,[None,features])\n",
    "Y = tf.placeholder(tf.float32,[None,1])\n",
    "\n",
    "#matrix, dimensions of W  \n",
    "W1 = tf.Variable(tf.truncated_normal([features,hidden_layer_node],stddev = 0.1))\n",
    "#vector\n",
    "b1 = tf.Variable(tf.constant(0.1,shape=[hidden_layer_node]))\n",
    "#\n",
    "Z1 = tf.add(tf.matmul(X,W1),b1)\n",
    "#ReLu activation layer\n",
    "a1 = tf.nn.relu(Z1)\n",
    "\n",
    "W2 = tf.Variable(tf.truncated_normal([hidden_layer_node,1],stddev = 0.1))\n",
    "#\n",
    "b2 = tf.Variable(0.)\n",
    "#\n",
    "Z2 = tf.matmul(a1,W2) + b2\n",
    "#\n",
    "sigmoid = 1 / (1.0 + tf.exp(-Z2))\n",
    "#\n",
    "loss = tf.reduce_mean(-(Y* tf.log(sigmoid) + (1-Y)*tf.log(1-sigmoid)))\n",
    "#\n",
    "update = tf.train.GradientDescentOptimizer(alpha).minimize(loss)"
   ]
  },
  {
   "cell_type": "code",
   "execution_count": 70,
   "id": "8a77ba99",
   "metadata": {},
   "outputs": [],
   "source": [
    "'''\n",
    "transform training data into numpy array so it meets the wanted dimensions\n",
    "'''\n",
    "data_x = training_set.drop(columns='gender').to_numpy() #matrix of vectors, each vectors has 4 attributes\n",
    "data_y = training_set.drop(columns=['age', 'weight','height','smoke']).to_numpy() #matrix of vectors, each vector has 1 attribute"
   ]
  },
  {
   "cell_type": "code",
   "execution_count": 71,
   "id": "e2631af9",
   "metadata": {},
   "outputs": [
    {
     "data": {
      "text/plain": [
       "<tf.Tensor 'Placeholder_11:0' shape=(?, 1) dtype=float32>"
      ]
     },
     "execution_count": 71,
     "metadata": {},
     "output_type": "execute_result"
    }
   ],
   "source": [
    "Y"
   ]
  },
  {
   "cell_type": "code",
   "execution_count": 72,
   "id": "c363575a",
   "metadata": {},
   "outputs": [
    {
     "name": "stdout",
     "output_type": "stream",
     "text": [
      "Iteration:  0\n",
      "W:\n",
      "  [[-0.01941548 -0.13596404  0.0088321  -0.03943469 -0.00950822 -0.11684261\n",
      "   0.08032639 -0.16492537 -0.05258608  0.02553259]\n",
      " [-0.12476882  0.16605486  0.02869869 -0.02198952 -0.04374301  0.02303204\n",
      "   0.18713051 -0.09668365 -0.06523067  0.04309287]\n",
      " [ 0.151362   -0.04016317  0.00665209 -0.12823342  0.03914369 -0.01858776\n",
      "  -0.03185725 -0.12440764 -0.03052028  0.04907166]\n",
      " [ 0.05992854  0.07090089  0.07825376  0.02108609  0.11198083  0.0241949\n",
      "  -0.01912444 -0.12986366  0.01505378 -0.09182741]] \n",
      "b:\n",
      "  [0.09999999 0.10000724 0.09999835 0.1        0.1        0.1\n",
      " 0.09999324 0.1        0.1        0.09999992] \n",
      "Loss:\n",
      "  0.8491085\n",
      "Iteration:  10000\n",
      "W:\n",
      "  [[-0.01932656 -0.1803035   0.0159565  -0.03943469 -0.00994381 -0.11684261\n",
      "   0.1130648  -0.16492537 -0.05258608  0.02467796]\n",
      " [-0.12276392  0.18471768  0.02511054 -0.02198952 -0.04444641  0.02303204\n",
      "   0.17208077 -0.09668365 -0.06523067  0.04333621]\n",
      " [ 0.15242055 -0.01014158  0.00132856 -0.12823342  0.03799465 -0.01858776\n",
      "  -0.05484255 -0.12440764 -0.03052028  0.04970589]\n",
      " [ 0.05992851  0.08679736  0.0758011   0.02108609  0.11198083  0.0241949\n",
      "  -0.03086934 -0.12986366  0.01505378 -0.09167948]] \n",
      "b:\n",
      "  [0.09999984 0.09621825 0.10058166 0.1        0.1        0.1\n",
      " 0.10278616 0.1        0.1        0.09996689] \n",
      "Loss:\n",
      "  0.63112164\n",
      "Iteration:  20000\n",
      "W:\n",
      "  [[-0.00599638 -0.1823491   0.0162266  -0.03943469 -0.01014079 -0.11684261\n",
      "   0.11455106 -0.16492537 -0.05258608  0.02471832]\n",
      " [-0.08940284  0.18376197  0.02520151 -0.02198952 -0.0448432   0.02303204\n",
      "   0.1728269  -0.09668365 -0.06523067  0.04340719]\n",
      " [ 0.17446113  0.0085562  -0.00076534 -0.12823342  0.03724096 -0.01858776\n",
      "  -0.06855901 -0.12440764 -0.03052028  0.04888763]\n",
      " [ 0.05950758  0.10444073  0.07368957  0.02108609  0.11198083  0.0241949\n",
      "  -0.04361679 -0.12986366  0.01505378 -0.09230043]] \n",
      "b:\n",
      "  [0.10032668 0.09197354 0.10108507 0.1        0.1        0.1\n",
      " 0.10585336 0.1        0.1        0.1001197 ] \n",
      "Loss:\n",
      "  0.62766665\n",
      "Iteration:  30000\n",
      "W:\n",
      "  [[ 0.01724226 -0.175086    0.01549921 -0.03943469 -0.01034414 -0.11684261\n",
      "   0.10862447 -0.16492537 -0.05258608  0.02438268]\n",
      " [-0.09166934  0.17848516  0.0257476  -0.02198952 -0.0452329   0.02303204\n",
      "   0.17705244 -0.09668365 -0.06523067  0.04363927]\n",
      " [ 0.18289419  0.04006097 -0.00403497 -0.12823342  0.0365151  -0.01858776\n",
      "  -0.09370961 -0.12440764 -0.03052028  0.04751411]\n",
      " [ 0.05492476  0.12212179  0.07189358  0.02108609  0.11198083  0.0241949\n",
      "  -0.05794692 -0.12986366  0.01505378 -0.09310628]] \n",
      "b:\n",
      "  [0.10172935 0.08776449 0.10151159 0.1        0.1        0.1\n",
      " 0.10926735 0.1        0.1        0.10030311] \n",
      "Loss:\n",
      "  0.62546796\n",
      "Iteration:  40000\n",
      "W:\n",
      "  [[ 0.03861394 -0.16601785  0.01475372 -0.03943469 -0.01055977 -0.11684261\n",
      "   0.10081098 -0.16492537 -0.05258608  0.02373496]\n",
      " [-0.10240036  0.1764623   0.02591506 -0.02198952 -0.04566058  0.02303204\n",
      "   0.17879407 -0.09668365 -0.06523067  0.04378292]\n",
      " [ 0.19321948  0.04970074 -0.00483469 -0.12823342  0.03574426 -0.01858776\n",
      "  -0.10200286 -0.12440764 -0.03052028  0.04683746]\n",
      " [ 0.04869759  0.13984203  0.07043539  0.02108609  0.11198083  0.0241949\n",
      "  -0.07321495 -0.12986366  0.01505378 -0.09437058]] \n",
      "b:\n",
      "  [0.10351781 0.08359217 0.10185511 0.1        0.1        0.1\n",
      " 0.11287551 0.1        0.1        0.10060188] \n",
      "Loss:\n",
      "  0.62423694\n",
      "Iteration:  50000\n",
      "W:\n",
      "  [[ 0.0589828  -0.15648244  0.01416032 -0.03943469 -0.01080036 -0.11684261\n",
      "   0.09229642 -0.16492537 -0.05258608  0.02273891]\n",
      " [-0.11185203  0.1747543   0.02602228 -0.02198952 -0.04614487  0.02303204\n",
      "   0.1802986  -0.09668365 -0.06523067  0.04396132]\n",
      " [ 0.20038062  0.05623278 -0.00524696 -0.12823342  0.03489051 -0.01858776\n",
      "  -0.10784884 -0.12440764 -0.03052028  0.04616546]\n",
      " [ 0.04177459  0.15773003  0.06932146  0.02108609  0.11198083  0.0241949\n",
      "  -0.0891695  -0.12986366  0.01505378 -0.09623744]] \n",
      "b:\n",
      "  [0.10554077 0.07936631 0.10211766 0.1        0.1        0.1\n",
      " 0.11664164 0.1        0.1        0.10104232] \n",
      "Loss:\n",
      "  0.6231052\n",
      "Iteration:  60000\n",
      "W:\n",
      "  [[ 0.07712693 -0.14691974  0.01375131 -0.03943469 -0.0110583  -0.11684261\n",
      "   0.08352935 -0.16492537 -0.05258608  0.02141087]\n",
      " [-0.11982099  0.17344779  0.02607763 -0.02198952 -0.04666917  0.02303204\n",
      "   0.18148224 -0.09668365 -0.06523067  0.04413967]\n",
      " [ 0.20495373  0.05980065 -0.00540442 -0.12823342  0.03397771 -0.01858776\n",
      "  -0.11115287 -0.12440764 -0.03052028  0.04567841]\n",
      " [ 0.03438215  0.17589422  0.0685475   0.02108609  0.11198083  0.0241949\n",
      "  -0.10579714 -0.12986366  0.01505378 -0.09876183]] \n",
      "b:\n",
      "  [0.10772179 0.07508476 0.10230056 0.1        0.1        0.1\n",
      " 0.12056482 0.1        0.1        0.10163765] \n",
      "Loss:\n",
      "  0.6220657\n",
      "Iteration:  70000\n",
      "W:\n",
      "  [[ 0.09294144 -0.13743778  0.01352497 -0.03943469 -0.01134538 -0.11684261\n",
      "   0.07468291 -0.16492537 -0.05258608  0.01976345]\n",
      " [-0.12577704  0.17238483  0.0261041  -0.02198952 -0.04725873  0.02303204\n",
      "   0.18245639 -0.09668365 -0.06523067  0.04432311]\n",
      " [ 0.20729868  0.06162927 -0.00545093 -0.12823342  0.03297837 -0.01858776\n",
      "  -0.11289226 -0.12440764 -0.03052028  0.04536641]\n",
      " [ 0.02663111  0.19447508  0.06810538  0.02108609  0.11198083  0.0241949\n",
      "  -0.12311464 -0.12986366  0.01505378 -0.10199365]] \n",
      "b:\n",
      "  [0.1100204  0.07069898 0.10240509 0.1        0.1        0.1\n",
      " 0.12465341 0.1        0.1        0.10239789] \n",
      "Loss:\n",
      "  0.62107784\n",
      "Iteration:  80000\n",
      "W:\n",
      "  [[ 0.10641849 -0.12798168  0.01346677 -0.03943469 -0.01163977 -0.11684261\n",
      "   0.06574997 -0.16492537 -0.05258608  0.01780351]\n",
      " [-0.13013549  0.17141512  0.02610976 -0.02198952 -0.04785477  0.02303204\n",
      "   0.18335657 -0.09668365 -0.06523067  0.04452372]\n",
      " [ 0.20807795  0.06235298 -0.00545804 -0.12823342  0.03197255 -0.01858776\n",
      "  -0.11360493 -0.12440764 -0.03052028  0.0452226 ]\n",
      " [ 0.01850474  0.21362318  0.06798888  0.02108609  0.11198083  0.0241949\n",
      "  -0.1411935  -0.12986366  0.01505378 -0.10596596]] \n",
      "b:\n",
      "  [0.11244924 0.06616896 0.10243265 0.1        0.1        0.1\n",
      " 0.12892173 0.1        0.1        0.10334019] \n",
      "Loss:\n",
      "  0.6200916\n",
      "Iteration:  90000\n",
      "W:\n",
      "  [[ 0.1174405  -0.11886605  0.01355843 -0.03943469 -0.0119378  -0.11684261\n",
      "   0.05704928 -0.16492537 -0.05258608  0.01562605]\n",
      " [-0.13338491  0.17060868  0.02610498 -0.02198952 -0.04845082  0.02303204\n",
      "   0.18410523 -0.09668365 -0.06523067  0.04471468]\n",
      " [ 0.20823857  0.06195747 -0.00546532 -0.12823342  0.03096147 -0.01858776\n",
      "  -0.1132577  -0.12440764 -0.03052028  0.04532306]\n",
      " [ 0.01004446  0.23347181  0.06819331  0.02108609  0.11198083  0.0241949\n",
      "  -0.16011576 -0.12986366  0.01505378 -0.11071388]] \n",
      "b:\n",
      "  [0.11501693 0.06145715 0.10238449 0.1        0.1        0.1\n",
      " 0.13342036 0.1        0.1        0.10446493] \n",
      "Loss:\n",
      "  0.61907506\n",
      "Iteration:  100000\n",
      "W:\n",
      "  [[ 0.12629628 -0.11094356  0.01375432 -0.03943469 -0.01216787 -0.11684261\n",
      "   0.04945933 -0.16492537 -0.05258608  0.01350194]\n",
      " [-0.13623571  0.17029355  0.0261016  -0.02198952 -0.04891508  0.02303204\n",
      "   0.18437994 -0.09668365 -0.06523067  0.04479894]\n",
      " [ 0.20804942  0.05974407 -0.00552179 -0.12823342  0.03017176 -0.01858776\n",
      "  -0.11116862 -0.12440764 -0.03052028  0.04592059]\n",
      " [ 0.00139646  0.2541848   0.06871021  0.02108609  0.11198083  0.0241949\n",
      "  -0.17993617 -0.12986366  0.01505378 -0.11627477]] \n",
      "b:\n",
      "  [0.11764601 0.05651741 0.10226122 0.1        0.1        0.1\n",
      " 0.13814045 0.1        0.1        0.10579367] \n",
      "Loss:\n",
      "  0.61800635\n",
      "Iteration:  110000\n",
      "W:\n",
      "  [[ 0.1339441  -0.10340957  0.01403894 -0.03943469 -0.01216679 -0.11684261\n",
      "   0.04223731 -0.16492537 -0.05258608  0.0112825 ]\n",
      " [-0.1380135   0.170047    0.02609225 -0.02198952 -0.04893105  0.02303204\n",
      "   0.18459347 -0.09668365 -0.06523067  0.04487004]\n",
      " [ 0.20692292  0.05722313 -0.00561875 -0.12823342  0.03018056 -0.01858776\n",
      "  -0.10878276 -0.12440764 -0.03052028  0.04666745]\n",
      " [-0.00740264  0.27588832  0.06953292  0.02108609  0.11198083  0.0241949\n",
      "  -0.20072797 -0.12986366  0.01505378 -0.12267594]] \n",
      "b:\n",
      "  [0.12035817 0.05130435 0.10206351 0.1        0.1        0.1\n",
      " 0.14313264 0.1        0.1        0.10733153] \n",
      "Loss:\n",
      "  0.6168465\n"
     ]
    }
   ],
   "source": [
    "sess = tf.Session()\n",
    "sess.run(tf.global_variables_initializer())\n",
    "\n",
    "for i in range(0,100000):\n",
    "    sess.run(update,feed_dict={X:data_x, Y:data_y})\n",
    "    if i%10000 == 0:\n",
    "        print('Iteration: ',i)\n",
    "# eval evaluates the value of a variable. Therefore, K. eval(loss) gives you the value of the crossentropy loss\n",
    "        print('W:\\n ',sess.run(W1), '\\nb:\\n ', sess.run(b1), '\\nLoss:\\n ',loss.eval(session=sess, feed_dict={X:data_x,Y:data_y}))"
   ]
  },
  {
   "cell_type": "code",
   "execution_count": 73,
   "id": "fdab69b5",
   "metadata": {
    "scrolled": false
   },
   "outputs": [],
   "source": [
    "'''\n",
    "preparing for testing, checking results using confusion matrix\n",
    "text_x - 20k examples \n",
    "test_y - 20k labels\n",
    "'''\n",
    "test_x = testing_set.drop(columns='gender').to_numpy()\n",
    "test_y = testing_set.drop(columns=['age', 'weight','height','smoke']).to_numpy()\n",
    "\n",
    "#logistic regression function for prediction\n",
    "# z is a vector containing 4 features [age, height, weight, smoke]\n",
    "\n",
    "y= 1 / (1.0+tf.exp(-Z2))\n",
    "\n",
    "# predicted will be a vector of the prediction of the testing_set\n",
    "predicted = []\n",
    "\n",
    "#looping each vector in text_x matrix\n",
    "for vec in test_x:\n",
    "    pr = y.eval(session=sess, feed_dict = {X:[vec]})\n",
    "    predicted.append(1) if pr >= 0.5 else predicted.append(0)       "
   ]
  },
  {
   "cell_type": "code",
   "execution_count": 74,
   "id": "c91c51f9",
   "metadata": {},
   "outputs": [],
   "source": [
    "'''\n",
    "peparing labeled data for the confusion matrix\n",
    "'''\n",
    "actual = test_y.flatten()"
   ]
  },
  {
   "cell_type": "code",
   "execution_count": 75,
   "id": "0231bbb0",
   "metadata": {},
   "outputs": [
    {
     "data": {
      "text/plain": [
       "array([[1],\n",
       "       [0],\n",
       "       [1],\n",
       "       ...,\n",
       "       [1],\n",
       "       [0],\n",
       "       [0]], dtype=int64)"
      ]
     },
     "execution_count": 75,
     "metadata": {},
     "output_type": "execute_result"
    }
   ],
   "source": [
    "test_y"
   ]
  },
  {
   "cell_type": "code",
   "execution_count": 76,
   "id": "96325527",
   "metadata": {},
   "outputs": [],
   "source": [
    "y_actu = pd.Series(actual, name='Actual')\n",
    "y_pred = pd.Series(predicted, name='Predicted')\n",
    "df_confusion = pd.crosstab(y_actu, y_pred,rownames=['Actual'], colnames=['Predicted'], margins=True)"
   ]
  },
  {
   "cell_type": "code",
   "execution_count": 77,
   "id": "37016508",
   "metadata": {},
   "outputs": [
    {
     "data": {
      "text/html": [
       "<div>\n",
       "<style scoped>\n",
       "    .dataframe tbody tr th:only-of-type {\n",
       "        vertical-align: middle;\n",
       "    }\n",
       "\n",
       "    .dataframe tbody tr th {\n",
       "        vertical-align: top;\n",
       "    }\n",
       "\n",
       "    .dataframe thead th {\n",
       "        text-align: right;\n",
       "    }\n",
       "</style>\n",
       "<table border=\"1\" class=\"dataframe\">\n",
       "  <thead>\n",
       "    <tr style=\"text-align: right;\">\n",
       "      <th>Predicted</th>\n",
       "      <th>0</th>\n",
       "      <th>1</th>\n",
       "      <th>All</th>\n",
       "    </tr>\n",
       "    <tr>\n",
       "      <th>Actual</th>\n",
       "      <th></th>\n",
       "      <th></th>\n",
       "      <th></th>\n",
       "    </tr>\n",
       "  </thead>\n",
       "  <tbody>\n",
       "    <tr>\n",
       "      <th>0</th>\n",
       "      <td>12006</td>\n",
       "      <td>875</td>\n",
       "      <td>12881</td>\n",
       "    </tr>\n",
       "    <tr>\n",
       "      <th>1</th>\n",
       "      <td>5757</td>\n",
       "      <td>1362</td>\n",
       "      <td>7119</td>\n",
       "    </tr>\n",
       "    <tr>\n",
       "      <th>All</th>\n",
       "      <td>17763</td>\n",
       "      <td>2237</td>\n",
       "      <td>20000</td>\n",
       "    </tr>\n",
       "  </tbody>\n",
       "</table>\n",
       "</div>"
      ],
      "text/plain": [
       "Predicted      0     1    All\n",
       "Actual                       \n",
       "0          12006   875  12881\n",
       "1           5757  1362   7119\n",
       "All        17763  2237  20000"
      ]
     },
     "execution_count": 77,
     "metadata": {},
     "output_type": "execute_result"
    }
   ],
   "source": [
    "df_confusion"
   ]
  },
  {
   "cell_type": "code",
   "execution_count": 78,
   "id": "84ce73ec",
   "metadata": {},
   "outputs": [
    {
     "data": {
      "image/png": "[encoded data removed]",
      "text/plain": [
       "<Figure size 432x288 with 2 Axes>"
      ]
     },
     "metadata": {
      "needs_background": "light"
     },
     "output_type": "display_data"
    }
   ],
   "source": [
    "'''\n",
    "We let the model predict some samples and then show on a confusion matrix plot the results.\n",
    "All results such as classification report, confusion matrix and plot, are saved into a \n",
    "time stamped directory under reports/ \n",
    "'''\n",
    "predictions = predicted\n",
    "true_labels = actual\n",
    "cf_matrix = pd.crosstab(y_actu, y_pred)\n",
    "\n",
    "heatmap = sns.heatmap(cf_matrix, annot=True, cmap='Blues', fmt='g', \n",
    "                      xticklabels=np.unique(true_labels), \n",
    "                      yticklabels=np.unique(true_labels)) "
   ]
  },
  {
   "cell_type": "code",
   "execution_count": 79,
   "id": "0403032a",
   "metadata": {},
   "outputs": [],
   "source": [
    "accuracy = np.sum(np.equal(actual,predicted))/len(actual)"
   ]
  },
  {
   "cell_type": "code",
   "execution_count": 80,
   "id": "584d1703",
   "metadata": {},
   "outputs": [
    {
     "data": {
      "text/plain": [
       "0.6684"
      ]
     },
     "execution_count": 80,
     "metadata": {},
     "output_type": "execute_result"
    }
   ],
   "source": [
    "accuracy"
   ]
  }
 ],
 "metadata": {
  "kernelspec": {
   "display_name": "nlpenv",
   "language": "python",
   "name": "nlpenv"
  },
  "language_info": {
   "codemirror_mode": {
    "name": "ipython",
    "version": 3
   },
   "file_extension": ".py",
   "mimetype": "text/x-python",
   "name": "python",
   "nbconvert_exporter": "python",
   "pygments_lexer": "ipython3",
   "version": "3.8.6"
  }
 },
 "nbformat": 4,
 "nbformat_minor": 5
}
