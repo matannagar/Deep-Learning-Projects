{
 "cells": [
  {
   "cell_type": "code",
   "execution_count": 4,
   "id": "e99a9854",
   "metadata": {},
   "outputs": [],
   "source": [
    "# Imports\n",
    "%matplotlib inline\n",
    "import pandas as pd\n",
    "pd.options.mode.chained_assignment = None\n",
    "import numpy as np\n",
    "import matplotlib.pyplot as plt\n",
    "import seaborn as sns\n",
    "from scipy.stats import norm\n",
    "from sklearn.preprocessing import StandardScaler\n",
    "from scipy import stats\n",
    "import warnings"
   ]
  },
  {
   "cell_type": "code",
   "execution_count": 5,
   "id": "fed04efd",
   "metadata": {},
   "outputs": [
    {
     "name": "stdout",
     "output_type": "stream",
     "text": [
      "WARNING:tensorflow:From C:\\Users\\matan\\My PC (DESKTOP-RLTMVS3)\\Desktop\\NLP\\Gender Classification\\nlpenv\\lib\\site-packages\\tensorflow\\python\\compat\\v2_compat.py:111: disable_resource_variables (from tensorflow.python.ops.variable_scope) is deprecated and will be removed in a future version.\n",
      "Instructions for updating:\n",
      "non-resource variables are not supported in the long term\n"
     ]
    }
   ],
   "source": [
    "import tensorflow.compat.v1 as tf\n",
    "tf.disable_v2_behavior() "
   ]
  },
  {
   "cell_type": "code",
   "execution_count": 6,
   "id": "e0499997",
   "metadata": {},
   "outputs": [],
   "source": [
    "# file path to dataset file\"\n",
    "f_path = \"cardio_train.csv\"\n",
    "\n",
    "df = pd.read_csv(f_path,sep = ';',index_col=0)"
   ]
  },
  {
   "cell_type": "markdown",
   "id": "86a53caa",
   "metadata": {},
   "source": [
    "## PreProcessing Data"
   ]
  },
  {
   "cell_type": "code",
   "execution_count": 7,
   "id": "46b72086",
   "metadata": {},
   "outputs": [],
   "source": [
    "'''\n",
    "cut the necessary information out of the dataset\n",
    "'''\n",
    "df2 = df[['age','gender','height','weight','smoke']]\n",
    "df2['gender'] = df2['gender'].replace({1:0,2:1})"
   ]
  },
  {
   "cell_type": "code",
   "execution_count": 8,
   "id": "a6fb53aa",
   "metadata": {},
   "outputs": [],
   "source": [
    "'''\n",
    "normalization of the data\n",
    "'''\n",
    "df2['age'] = df['age'].apply(lambda x: x/360)"
   ]
  },
  {
   "cell_type": "code",
   "execution_count": 9,
   "id": "4b02ece8",
   "metadata": {},
   "outputs": [
    {
     "data": {
      "text/plain": [
       "(             age  gender  height  weight  smoke\n",
       " id                                             \n",
       " 0      51.091667       1     168    62.0      0\n",
       " 1      56.188889       0     156    85.0      0\n",
       " 2      52.380556       0     165    64.0      0\n",
       " 3      48.952778       1     169    82.0      0\n",
       " 4      48.538889       0     156    56.0      0\n",
       " ...          ...     ...     ...     ...    ...\n",
       " 99993  53.444444       1     168    76.0      1\n",
       " 99995  62.780556       0     158   126.0      0\n",
       " 99996  52.961111       1     183   105.0      0\n",
       " 99998  62.308333       0     163    72.0      0\n",
       " 99999  57.055556       0     170    72.0      0\n",
       " \n",
       " [70000 rows x 5 columns],\n",
       " 0    45530\n",
       " 1    24470\n",
       " Name: gender, dtype: int64)"
      ]
     },
     "execution_count": 9,
     "metadata": {},
     "output_type": "execute_result"
    }
   ],
   "source": [
    "'''\n",
    "0 - female\n",
    "1 - male\n",
    "'''\n",
    "df2,df2['gender'].value_counts()"
   ]
  },
  {
   "cell_type": "code",
   "execution_count": 39,
   "id": "2204a51b",
   "metadata": {},
   "outputs": [],
   "source": [
    "'''\n",
    "split the dataset into training_set 50K\n",
    "and testing_set 20K\n",
    "'''\n",
    "training_set = df2.iloc[-20000:]\n",
    "testing_set = df2.iloc[50000:]"
   ]
  },
  {
   "cell_type": "code",
   "execution_count": 59,
   "id": "b54f5b64",
   "metadata": {},
   "outputs": [],
   "source": [
    "'''\n",
    "4 features = [age, weight, height, smoke]\n",
    "'''\n",
    "features = 4\n",
    "alpha = 0.0004\n",
    "# placeholders are a bunch of empty nodes in a graph, waiting to be filled\n",
    "# None -> allow num of examples to be dynamic size\n",
    "# X and Y represnt matrices\n",
    "X = tf.placeholder(tf.float32,[None,features])\n",
    "Y = tf.placeholder(tf.float32, [None, 1])\n",
    "\n",
    "# Trainable Variable Weights\n",
    "W = tf.Variable(tf.zeros([features,1]))\n",
    "  \n",
    "# Trainable Variable Bias\n",
    "b = tf.Variable(tf.zeros([1]))"
   ]
  },
  {
   "cell_type": "code",
   "execution_count": 60,
   "id": "90eba4c3",
   "metadata": {},
   "outputs": [],
   "source": [
    "# Hypothesis\n",
    "y_ = tf.add(tf.matmul(X, W), b)\n",
    "  \n",
    "# Sigmoid Cross Entropy Cost Function\n",
    "loss = tf.reduce_mean(tf.nn.sigmoid_cross_entropy_with_logits(\n",
    "                    logits = y_, labels = Y))\n",
    "  \n",
    "# Gradient Descent Optimizer\n",
    "update = tf.train.GradientDescentOptimizer(alpha).minimize(loss)"
   ]
  },
  {
   "cell_type": "code",
   "execution_count": 61,
   "id": "90c359cb",
   "metadata": {},
   "outputs": [],
   "source": [
    "'''\n",
    "transform training data into numpy array so it meets the wanted dimensions\n",
    "'''\n",
    "data_x = training_set.drop(columns='gender').to_numpy() #matrix of vectors, each vectors has 4 attributes\n",
    "data_y = training_set.drop(columns=['age', 'weight','height','smoke']).to_numpy() #matrix of vectors, each vector has 1 attribute"
   ]
  },
  {
   "cell_type": "code",
   "execution_count": 62,
   "id": "8ff7da76",
   "metadata": {},
   "outputs": [
    {
     "data": {
      "text/plain": [
       "(array([[ 52.525     , 176.        ,  72.        ,   0.        ],\n",
       "        [ 64.66111111, 145.        ,  68.        ,   0.        ],\n",
       "        [ 58.8       , 159.        ,  66.        ,   0.        ],\n",
       "        ...,\n",
       "        [ 52.96111111, 183.        , 105.        ,   0.        ],\n",
       "        [ 62.30833333, 163.        ,  72.        ,   0.        ],\n",
       "        [ 57.05555556, 170.        ,  72.        ,   0.        ]]),\n",
       " array([[1],\n",
       "        [0],\n",
       "        [1],\n",
       "        ...,\n",
       "        [1],\n",
       "        [0],\n",
       "        [0]], dtype=int64))"
      ]
     },
     "execution_count": 62,
     "metadata": {},
     "output_type": "execute_result"
    }
   ],
   "source": [
    "# confirm dimensions\n",
    "data_x, data_y"
   ]
  },
  {
   "cell_type": "code",
   "execution_count": 63,
   "id": "8496ae62",
   "metadata": {},
   "outputs": [
    {
     "name": "stdout",
     "output_type": "stream",
     "text": [
      "Iteration:  0\n",
      "W:\n",
      "  [[-3.1616129e-03]\n",
      " [-8.6827502e-03]\n",
      " [-3.8116816e-03]\n",
      " [ 1.2859999e-05]] \n",
      "b:\n",
      "  [-5.762e-05] \n",
      "Loss:\n",
      "  0.83308977\n",
      "Iteration:  10000\n",
      "W:\n",
      "  [[-0.13197866]\n",
      " [ 0.01715978]\n",
      " [ 0.00890671]\n",
      " [ 0.16051593]] \n",
      "b:\n",
      "  [-0.03869498] \n",
      "Loss:\n",
      "  1.2840309\n",
      "Iteration:  20000\n",
      "W:\n",
      "  [[-0.13121419]\n",
      " [ 0.01711758]\n",
      " [ 0.00880742]\n",
      " [ 0.31557688]] \n",
      "b:\n",
      "  [-0.07695431] \n",
      "Loss:\n",
      "  1.2766824\n",
      "Iteration:  30000\n",
      "W:\n",
      "  [[-0.13041434]\n",
      " [ 0.01707444]\n",
      " [ 0.00870856]\n",
      " [ 0.4659539 ]] \n",
      "b:\n",
      "  [-0.11508641] \n",
      "Loss:\n",
      "  1.2691458\n"
     ]
    },
    {
     "ename": "KeyboardInterrupt",
     "evalue": "",
     "output_type": "error",
     "traceback": [
      "\u001b[1;31m---------------------------------------------------------------------------\u001b[0m",
      "\u001b[1;31mKeyboardInterrupt\u001b[0m                         Traceback (most recent call last)",
      "\u001b[1;32m~\\AppData\\Local\\Temp/ipykernel_7716/2441479168.py\u001b[0m in \u001b[0;36m<module>\u001b[1;34m\u001b[0m\n\u001b[0;32m      4\u001b[0m     \u001b[0msess\u001b[0m\u001b[1;33m.\u001b[0m\u001b[0mrun\u001b[0m\u001b[1;33m(\u001b[0m\u001b[0mtf\u001b[0m\u001b[1;33m.\u001b[0m\u001b[0mglobal_variables_initializer\u001b[0m\u001b[1;33m(\u001b[0m\u001b[1;33m)\u001b[0m\u001b[1;33m)\u001b[0m\u001b[1;33m\u001b[0m\u001b[1;33m\u001b[0m\u001b[0m\n\u001b[0;32m      5\u001b[0m     \u001b[1;32mfor\u001b[0m \u001b[0mi\u001b[0m \u001b[1;32min\u001b[0m \u001b[0mrange\u001b[0m\u001b[1;33m(\u001b[0m\u001b[0msteps\u001b[0m\u001b[1;33m)\u001b[0m\u001b[1;33m:\u001b[0m\u001b[1;33m\u001b[0m\u001b[1;33m\u001b[0m\u001b[0m\n\u001b[1;32m----> 6\u001b[1;33m         \u001b[0msess\u001b[0m\u001b[1;33m.\u001b[0m\u001b[0mrun\u001b[0m\u001b[1;33m(\u001b[0m\u001b[0mupdate\u001b[0m\u001b[1;33m,\u001b[0m\u001b[0mfeed_dict\u001b[0m\u001b[1;33m=\u001b[0m\u001b[1;33m{\u001b[0m\u001b[0mX\u001b[0m\u001b[1;33m:\u001b[0m \u001b[0mdata_x\u001b[0m\u001b[1;33m,\u001b[0m \u001b[0mY\u001b[0m \u001b[1;33m:\u001b[0m \u001b[0mdata_y\u001b[0m\u001b[1;33m}\u001b[0m\u001b[1;33m)\u001b[0m\u001b[1;33m\u001b[0m\u001b[1;33m\u001b[0m\u001b[0m\n\u001b[0m\u001b[0;32m      7\u001b[0m         \u001b[1;32mif\u001b[0m \u001b[0mi\u001b[0m\u001b[1;33m%\u001b[0m\u001b[1;36m10000\u001b[0m \u001b[1;33m==\u001b[0m \u001b[1;36m0\u001b[0m\u001b[1;33m:\u001b[0m\u001b[1;33m\u001b[0m\u001b[1;33m\u001b[0m\u001b[0m\n\u001b[0;32m      8\u001b[0m             \u001b[0mprint\u001b[0m\u001b[1;33m(\u001b[0m\u001b[1;34m'Iteration: '\u001b[0m\u001b[1;33m,\u001b[0m\u001b[0mi\u001b[0m\u001b[1;33m)\u001b[0m\u001b[1;33m\u001b[0m\u001b[1;33m\u001b[0m\u001b[0m\n",
      "\u001b[1;32m~\\My PC (DESKTOP-RLTMVS3)\\Desktop\\NLP\\Gender Classification\\nlpenv\\lib\\site-packages\\tensorflow\\python\\client\\session.py\u001b[0m in \u001b[0;36mrun\u001b[1;34m(self, fetches, feed_dict, options, run_metadata)\u001b[0m\n\u001b[0;32m    968\u001b[0m \u001b[1;33m\u001b[0m\u001b[0m\n\u001b[0;32m    969\u001b[0m     \u001b[1;32mtry\u001b[0m\u001b[1;33m:\u001b[0m\u001b[1;33m\u001b[0m\u001b[1;33m\u001b[0m\u001b[0m\n\u001b[1;32m--> 970\u001b[1;33m       result = self._run(None, fetches, feed_dict, options_ptr,\n\u001b[0m\u001b[0;32m    971\u001b[0m                          run_metadata_ptr)\n\u001b[0;32m    972\u001b[0m       \u001b[1;32mif\u001b[0m \u001b[0mrun_metadata\u001b[0m\u001b[1;33m:\u001b[0m\u001b[1;33m\u001b[0m\u001b[1;33m\u001b[0m\u001b[0m\n",
      "\u001b[1;32m~\\My PC (DESKTOP-RLTMVS3)\\Desktop\\NLP\\Gender Classification\\nlpenv\\lib\\site-packages\\tensorflow\\python\\client\\session.py\u001b[0m in \u001b[0;36m_run\u001b[1;34m(self, handle, fetches, feed_dict, options, run_metadata)\u001b[0m\n\u001b[0;32m   1191\u001b[0m     \u001b[1;31m# or if the call is a partial run that specifies feeds.\u001b[0m\u001b[1;33m\u001b[0m\u001b[1;33m\u001b[0m\u001b[1;33m\u001b[0m\u001b[0m\n\u001b[0;32m   1192\u001b[0m     \u001b[1;32mif\u001b[0m \u001b[0mfinal_fetches\u001b[0m \u001b[1;32mor\u001b[0m \u001b[0mfinal_targets\u001b[0m \u001b[1;32mor\u001b[0m \u001b[1;33m(\u001b[0m\u001b[0mhandle\u001b[0m \u001b[1;32mand\u001b[0m \u001b[0mfeed_dict_tensor\u001b[0m\u001b[1;33m)\u001b[0m\u001b[1;33m:\u001b[0m\u001b[1;33m\u001b[0m\u001b[1;33m\u001b[0m\u001b[0m\n\u001b[1;32m-> 1193\u001b[1;33m       results = self._do_run(handle, final_targets, final_fetches,\n\u001b[0m\u001b[0;32m   1194\u001b[0m                              feed_dict_tensor, options, run_metadata)\n\u001b[0;32m   1195\u001b[0m     \u001b[1;32melse\u001b[0m\u001b[1;33m:\u001b[0m\u001b[1;33m\u001b[0m\u001b[1;33m\u001b[0m\u001b[0m\n",
      "\u001b[1;32m~\\My PC (DESKTOP-RLTMVS3)\\Desktop\\NLP\\Gender Classification\\nlpenv\\lib\\site-packages\\tensorflow\\python\\client\\session.py\u001b[0m in \u001b[0;36m_do_run\u001b[1;34m(self, handle, target_list, fetch_list, feed_dict, options, run_metadata)\u001b[0m\n\u001b[0;32m   1371\u001b[0m \u001b[1;33m\u001b[0m\u001b[0m\n\u001b[0;32m   1372\u001b[0m     \u001b[1;32mif\u001b[0m \u001b[0mhandle\u001b[0m \u001b[1;32mis\u001b[0m \u001b[1;32mNone\u001b[0m\u001b[1;33m:\u001b[0m\u001b[1;33m\u001b[0m\u001b[1;33m\u001b[0m\u001b[0m\n\u001b[1;32m-> 1373\u001b[1;33m       return self._do_call(_run_fn, feeds, fetches, targets, options,\n\u001b[0m\u001b[0;32m   1374\u001b[0m                            run_metadata)\n\u001b[0;32m   1375\u001b[0m     \u001b[1;32melse\u001b[0m\u001b[1;33m:\u001b[0m\u001b[1;33m\u001b[0m\u001b[1;33m\u001b[0m\u001b[0m\n",
      "\u001b[1;32m~\\My PC (DESKTOP-RLTMVS3)\\Desktop\\NLP\\Gender Classification\\nlpenv\\lib\\site-packages\\tensorflow\\python\\client\\session.py\u001b[0m in \u001b[0;36m_do_call\u001b[1;34m(self, fn, *args)\u001b[0m\n\u001b[0;32m   1378\u001b[0m   \u001b[1;32mdef\u001b[0m \u001b[0m_do_call\u001b[0m\u001b[1;33m(\u001b[0m\u001b[0mself\u001b[0m\u001b[1;33m,\u001b[0m \u001b[0mfn\u001b[0m\u001b[1;33m,\u001b[0m \u001b[1;33m*\u001b[0m\u001b[0margs\u001b[0m\u001b[1;33m)\u001b[0m\u001b[1;33m:\u001b[0m\u001b[1;33m\u001b[0m\u001b[1;33m\u001b[0m\u001b[0m\n\u001b[0;32m   1379\u001b[0m     \u001b[1;32mtry\u001b[0m\u001b[1;33m:\u001b[0m\u001b[1;33m\u001b[0m\u001b[1;33m\u001b[0m\u001b[0m\n\u001b[1;32m-> 1380\u001b[1;33m       \u001b[1;32mreturn\u001b[0m \u001b[0mfn\u001b[0m\u001b[1;33m(\u001b[0m\u001b[1;33m*\u001b[0m\u001b[0margs\u001b[0m\u001b[1;33m)\u001b[0m\u001b[1;33m\u001b[0m\u001b[1;33m\u001b[0m\u001b[0m\n\u001b[0m\u001b[0;32m   1381\u001b[0m     \u001b[1;32mexcept\u001b[0m \u001b[0merrors\u001b[0m\u001b[1;33m.\u001b[0m\u001b[0mOpError\u001b[0m \u001b[1;32mas\u001b[0m \u001b[0me\u001b[0m\u001b[1;33m:\u001b[0m\u001b[1;33m\u001b[0m\u001b[1;33m\u001b[0m\u001b[0m\n\u001b[0;32m   1382\u001b[0m       \u001b[0mmessage\u001b[0m \u001b[1;33m=\u001b[0m \u001b[0mcompat\u001b[0m\u001b[1;33m.\u001b[0m\u001b[0mas_text\u001b[0m\u001b[1;33m(\u001b[0m\u001b[0me\u001b[0m\u001b[1;33m.\u001b[0m\u001b[0mmessage\u001b[0m\u001b[1;33m)\u001b[0m\u001b[1;33m\u001b[0m\u001b[1;33m\u001b[0m\u001b[0m\n",
      "\u001b[1;32m~\\My PC (DESKTOP-RLTMVS3)\\Desktop\\NLP\\Gender Classification\\nlpenv\\lib\\site-packages\\tensorflow\\python\\client\\session.py\u001b[0m in \u001b[0;36m_run_fn\u001b[1;34m(feed_dict, fetch_list, target_list, options, run_metadata)\u001b[0m\n\u001b[0;32m   1361\u001b[0m       \u001b[1;31m# Ensure any changes to the graph are reflected in the runtime.\u001b[0m\u001b[1;33m\u001b[0m\u001b[1;33m\u001b[0m\u001b[1;33m\u001b[0m\u001b[0m\n\u001b[0;32m   1362\u001b[0m       \u001b[0mself\u001b[0m\u001b[1;33m.\u001b[0m\u001b[0m_extend_graph\u001b[0m\u001b[1;33m(\u001b[0m\u001b[1;33m)\u001b[0m\u001b[1;33m\u001b[0m\u001b[1;33m\u001b[0m\u001b[0m\n\u001b[1;32m-> 1363\u001b[1;33m       return self._call_tf_sessionrun(options, feed_dict, fetch_list,\n\u001b[0m\u001b[0;32m   1364\u001b[0m                                       target_list, run_metadata)\n\u001b[0;32m   1365\u001b[0m \u001b[1;33m\u001b[0m\u001b[0m\n",
      "\u001b[1;32m~\\My PC (DESKTOP-RLTMVS3)\\Desktop\\NLP\\Gender Classification\\nlpenv\\lib\\site-packages\\tensorflow\\python\\client\\session.py\u001b[0m in \u001b[0;36m_call_tf_sessionrun\u001b[1;34m(self, options, feed_dict, fetch_list, target_list, run_metadata)\u001b[0m\n\u001b[0;32m   1454\u001b[0m   def _call_tf_sessionrun(self, options, feed_dict, fetch_list, target_list,\n\u001b[0;32m   1455\u001b[0m                           run_metadata):\n\u001b[1;32m-> 1456\u001b[1;33m     return tf_session.TF_SessionRun_wrapper(self._session, options, feed_dict,\n\u001b[0m\u001b[0;32m   1457\u001b[0m                                             \u001b[0mfetch_list\u001b[0m\u001b[1;33m,\u001b[0m \u001b[0mtarget_list\u001b[0m\u001b[1;33m,\u001b[0m\u001b[1;33m\u001b[0m\u001b[1;33m\u001b[0m\u001b[0m\n\u001b[0;32m   1458\u001b[0m                                             run_metadata)\n",
      "\u001b[1;31mKeyboardInterrupt\u001b[0m: "
     ]
    }
   ],
   "source": [
    "steps = 100000\n",
    "with tf.Session() as sess:\n",
    "    # sess = tf.Session()\n",
    "    sess.run(tf.global_variables_initializer())\n",
    "    for i in range(steps):\n",
    "        sess.run(update,feed_dict={X: data_x, Y : data_y})\n",
    "        if i%10000 == 0:\n",
    "            print('Iteration: ',i)\n",
    "            # eval evaluates the value of a variable. Therefore, K. eval(loss) gives you the value of the crossentropy loss\n",
    "            print('W:\\n ',sess.run(W), '\\nb:\\n ', sess.run(b), '\\nLoss:\\n ',loss.eval(session=sess, feed_dict={X:data_x,Y:data_y}))\n",
    "    Weight = sess.run(W) # Optimized Weight\n",
    "    Bias = sess.run(b)   # Optimized Bias\n",
    "    print('final W: ',sess.run(W))\n",
    "    print('final b: ',sess.run(b))\n",
    "    print('final Loss: ',loss.eval(session=sess, feed_dict={X:data_x,Y:data_y}))"
   ]
  },
  {
   "cell_type": "code",
   "execution_count": 33,
   "id": "1b2e6a28",
   "metadata": {},
   "outputs": [],
   "source": [
    "'''\n",
    "preparing for testing, checking results using confusion matrix\n",
    "text_x - 20k examples \n",
    "test_y - 20k labels\n",
    "'''\n",
    "test_x = testing_set.drop(columns='gender').to_numpy()\n",
    "test_y = testing_set.drop(columns=['age', 'weight','height','smoke']).to_numpy()\n",
    "\n",
    "#logistic regression function for prediction\n",
    "# z is a vector containing 4 features [age, height, weight, smoke]\n",
    "def logistic_fun(z):\n",
    "    return 1/(1.0+np.exp(-z))\n",
    "\n",
    "# predicted will be a vector of the prediction of the testing_set\n",
    "predicted = []\n",
    "\n",
    "#looping each vector in text_x matrix\n",
    "for vec in test_x:\n",
    "    pr = logistic_fun(np.matmul([vec],sess.run(W))+sess.run(b))\n",
    "    predicted.append(1) if pr >= 0.5 else predicted.append(0)       "
   ]
  },
  {
   "cell_type": "code",
   "execution_count": 34,
   "id": "e15282a4",
   "metadata": {},
   "outputs": [],
   "source": [
    "'''\n",
    "peparing labeled data for the confusion matrix\n",
    "'''\n",
    "actual = test_y.flatten()"
   ]
  },
  {
   "cell_type": "code",
   "execution_count": 37,
   "id": "82a35c8c",
   "metadata": {},
   "outputs": [],
   "source": [
    "y_actu = pd.Series(actual, name='Actual')\n",
    "y_pred = pd.Series(predicted, name='Predicted')\n",
    "df_confusion = pd.crosstab(y_actu, y_pred,rownames=['Actual'], colnames=['Predicted'], margins=True)"
   ]
  },
  {
   "cell_type": "code",
   "execution_count": 38,
   "id": "77331133",
   "metadata": {},
   "outputs": [
    {
     "data": {
      "text/html": [
       "<div>\n",
       "<style scoped>\n",
       "    .dataframe tbody tr th:only-of-type {\n",
       "        vertical-align: middle;\n",
       "    }\n",
       "\n",
       "    .dataframe tbody tr th {\n",
       "        vertical-align: top;\n",
       "    }\n",
       "\n",
       "    .dataframe thead th {\n",
       "        text-align: right;\n",
       "    }\n",
       "</style>\n",
       "<table border=\"1\" class=\"dataframe\">\n",
       "  <thead>\n",
       "    <tr style=\"text-align: right;\">\n",
       "      <th>Predicted</th>\n",
       "      <th>0</th>\n",
       "      <th>1</th>\n",
       "      <th>All</th>\n",
       "    </tr>\n",
       "    <tr>\n",
       "      <th>Actual</th>\n",
       "      <th></th>\n",
       "      <th></th>\n",
       "      <th></th>\n",
       "    </tr>\n",
       "  </thead>\n",
       "  <tbody>\n",
       "    <tr>\n",
       "      <th>0</th>\n",
       "      <td>11862</td>\n",
       "      <td>1019</td>\n",
       "      <td>12881</td>\n",
       "    </tr>\n",
       "    <tr>\n",
       "      <th>1</th>\n",
       "      <td>5535</td>\n",
       "      <td>1584</td>\n",
       "      <td>7119</td>\n",
       "    </tr>\n",
       "    <tr>\n",
       "      <th>All</th>\n",
       "      <td>17397</td>\n",
       "      <td>2603</td>\n",
       "      <td>20000</td>\n",
       "    </tr>\n",
       "  </tbody>\n",
       "</table>\n",
       "</div>"
      ],
      "text/plain": [
       "Predicted      0     1    All\n",
       "Actual                       \n",
       "0          11862  1019  12881\n",
       "1           5535  1584   7119\n",
       "All        17397  2603  20000"
      ]
     },
     "execution_count": 38,
     "metadata": {},
     "output_type": "execute_result"
    }
   ],
   "source": [
    "df_confusion"
   ]
  },
  {
   "cell_type": "code",
   "execution_count": 56,
   "id": "cbbab983",
   "metadata": {},
   "outputs": [
    {
     "data": {
      "image/png": "[encoded data removed]",
      "text/plain": [
       "<Figure size 432x288 with 2 Axes>"
      ]
     },
     "metadata": {
      "needs_background": "light"
     },
     "output_type": "display_data"
    }
   ],
   "source": [
    "'''\n",
    "We let the model predict some samples and then show on a confusion matrix plot the results.\n",
    "All results such as classification report, confusion matrix and plot, are saved into a \n",
    "time stamped directory under reports/ \n",
    "'''\n",
    "predictions = predicted\n",
    "true_labels = actual\n",
    "cf_matrix = pd.crosstab(y_actu, y_pred)\n",
    "\n",
    "heatmap = sns.heatmap(cf_matrix, annot=True, cmap='Blues', fmt='g', \n",
    "                      xticklabels=np.unique(true_labels), \n",
    "                      yticklabels=np.unique(true_labels)) "
   ]
  },
  {
   "cell_type": "code",
   "execution_count": 57,
   "id": "f704e368",
   "metadata": {},
   "outputs": [],
   "source": [
    "accuracy = np.sum(np.equal(actual,predicted))/len(actual)"
   ]
  }
 ],
 "metadata": {
  "kernelspec": {
   "display_name": "nlpenv",
   "language": "python",
   "name": "nlpenv"
  },
  "language_info": {
   "codemirror_mode": {
    "name": "ipython",
    "version": 3
   },
   "file_extension": ".py",
   "mimetype": "text/x-python",
   "name": "python",
   "nbconvert_exporter": "python",
   "pygments_lexer": "ipython3",
   "version": "3.8.6"
  }
 },
 "nbformat": 4,
 "nbformat_minor": 5
}
