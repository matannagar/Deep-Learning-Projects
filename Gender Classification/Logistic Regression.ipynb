{
 "cells": [
  {
   "cell_type": "code",
   "execution_count": 2,
   "id": "e99a9854",
   "metadata": {},
   "outputs": [],
   "source": [
    "# Imports\n",
    "%matplotlib inline\n",
    "import pandas as pd\n",
    "pd.options.mode.chained_assignment = None\n",
    "import numpy as np\n",
    "import matplotlib.pyplot as plt\n",
    "import seaborn as sns\n",
    "from scipy.stats import norm\n",
    "from sklearn.preprocessing import StandardScaler\n",
    "from scipy import stats\n",
    "import warnings"
   ]
  },
  {
   "cell_type": "code",
   "execution_count": 3,
   "id": "fed04efd",
   "metadata": {},
   "outputs": [
    {
     "name": "stdout",
     "output_type": "stream",
     "text": [
      "WARNING:tensorflow:From C:\\Users\\matan\\My PC (DESKTOP-RLTMVS3)\\Desktop\\NLP\\Gender Classification\\nlpenv\\lib\\site-packages\\tensorflow\\python\\compat\\v2_compat.py:111: disable_resource_variables (from tensorflow.python.ops.variable_scope) is deprecated and will be removed in a future version.\n",
      "Instructions for updating:\n",
      "non-resource variables are not supported in the long term\n"
     ]
    }
   ],
   "source": [
    "import tensorflow.compat.v1 as tf\n",
    "tf.disable_v2_behavior() "
   ]
  },
  {
   "cell_type": "code",
   "execution_count": 4,
   "id": "e0499997",
   "metadata": {},
   "outputs": [],
   "source": [
    "# file path to dataset file\"\n",
    "f_path = \"cardio_train.csv\"\n",
    "\n",
    "df = pd.read_csv(f_path,sep = ';',index_col=0)"
   ]
  },
  {
   "cell_type": "markdown",
   "id": "86a53caa",
   "metadata": {},
   "source": [
    "## PreProcessing Data"
   ]
  },
  {
   "cell_type": "code",
   "execution_count": 5,
   "id": "46b72086",
   "metadata": {},
   "outputs": [],
   "source": [
    "'''\n",
    "cut the necessary information out of the dataset\n",
    "'''\n",
    "df2 = df[['age','gender','height','weight','smoke']]\n",
    "df2['gender'] = df2['gender'].replace({1:0,2:1})"
   ]
  },
  {
   "cell_type": "code",
   "execution_count": 6,
   "id": "a6fb53aa",
   "metadata": {},
   "outputs": [],
   "source": [
    "'''\n",
    "normalization of the data\n",
    "'''\n",
    "df2['age'] = df['age'].apply(lambda x: x/360)"
   ]
  },
  {
   "cell_type": "code",
   "execution_count": 7,
   "id": "4b02ece8",
   "metadata": {},
   "outputs": [
    {
     "data": {
      "text/plain": [
       "(             age  gender  height  weight  smoke\n",
       " id                                             \n",
       " 0      51.091667       1     168    62.0      0\n",
       " 1      56.188889       0     156    85.0      0\n",
       " 2      52.380556       0     165    64.0      0\n",
       " 3      48.952778       1     169    82.0      0\n",
       " 4      48.538889       0     156    56.0      0\n",
       " ...          ...     ...     ...     ...    ...\n",
       " 99993  53.444444       1     168    76.0      1\n",
       " 99995  62.780556       0     158   126.0      0\n",
       " 99996  52.961111       1     183   105.0      0\n",
       " 99998  62.308333       0     163    72.0      0\n",
       " 99999  57.055556       0     170    72.0      0\n",
       " \n",
       " [70000 rows x 5 columns],\n",
       " 0    45530\n",
       " 1    24470\n",
       " Name: gender, dtype: int64)"
      ]
     },
     "execution_count": 7,
     "metadata": {},
     "output_type": "execute_result"
    }
   ],
   "source": [
    "'''\n",
    "0 - female\n",
    "1 - male\n",
    "'''\n",
    "df2,df2['gender'].value_counts()"
   ]
  },
  {
   "cell_type": "code",
   "execution_count": 10,
   "id": "2204a51b",
   "metadata": {},
   "outputs": [],
   "source": [
    "'''\n",
    "split the dataset into training_set 50K\n",
    "and testing_set 20K\n",
    "'''\n",
    "training_set = df2.head(50000)\n",
    "testing_set = df2.tail(20000)"
   ]
  },
  {
   "cell_type": "code",
   "execution_count": 23,
   "id": "b54f5b64",
   "metadata": {},
   "outputs": [],
   "source": [
    "'''\n",
    "4 features = [age, weight, height, smoke]\n",
    "'''\n",
    "features = 4\n",
    "alpha = 0.0002\n",
    "# placeholders are a bunch of empty nodes in a graph, waiting to be filled\n",
    "# None -> allow num of examples to be dynamic size\n",
    "# X and Y represnt matrices\n",
    "X = tf.placeholder(tf.float32,[None,features])\n",
    "Y = tf.placeholder(tf.float32, [None, 1])\n",
    "\n",
    "# Trainable Variable Weights\n",
    "W = tf.Variable(tf.zeros([features,1]))\n",
    "  \n",
    "# Trainable Variable Bias\n",
    "b = tf.Variable(tf.zeros([1]))"
   ]
  },
  {
   "cell_type": "code",
   "execution_count": 24,
   "id": "90eba4c3",
   "metadata": {},
   "outputs": [],
   "source": [
    "# Hypothesis\n",
    "y_ = tf.add(tf.matmul(X, W), b)\n",
    "  \n",
    "# Sigmoid Cross Entropy Cost Function\n",
    "loss = tf.reduce_mean(tf.nn.sigmoid_cross_entropy_with_logits(\n",
    "                    logits = y_, labels = Y))\n",
    "  \n",
    "# Gradient Descent Optimizer\n",
    "update = tf.train.GradientDescentOptimizer(alpha).minimize(loss)"
   ]
  },
  {
   "cell_type": "code",
   "execution_count": 25,
   "id": "90c359cb",
   "metadata": {},
   "outputs": [],
   "source": [
    "'''\n",
    "transform training data into numpy array so it meets the wanted dimensions\n",
    "'''\n",
    "data_x = training_set.drop(columns='gender').to_numpy() #matrix of vectors, each vectors has 4 attributes\n",
    "data_y = training_set.drop(columns=['age', 'weight','height','smoke']).to_numpy() #matrix of vectors, each vector has 1 attribute"
   ]
  },
  {
   "cell_type": "code",
   "execution_count": 35,
   "id": "8ff7da76",
   "metadata": {},
   "outputs": [
    {
     "data": {
      "text/plain": [
       "(array([[ 51.09166667, 168.        ,  62.        ,   0.        ],\n",
       "        [ 56.18888889, 156.        ,  85.        ,   0.        ],\n",
       "        [ 52.38055556, 165.        ,  64.        ,   0.        ],\n",
       "        ...,\n",
       "        [ 51.05      , 160.        ,  56.        ,   0.        ],\n",
       "        [ 56.05555556, 166.        ,  95.        ,   1.        ],\n",
       "        [ 65.33055556, 159.        ,  69.        ,   0.        ]]),\n",
       " array([[1],\n",
       "        [0],\n",
       "        [0],\n",
       "        ...,\n",
       "        [0],\n",
       "        [1],\n",
       "        [0]], dtype=int64))"
      ]
     },
     "execution_count": 35,
     "metadata": {},
     "output_type": "execute_result"
    }
   ],
   "source": [
    "# confirm dimensions\n",
    "data_x, data_y"
   ]
  },
  {
   "cell_type": "code",
   "execution_count": 27,
   "id": "8496ae62",
   "metadata": {},
   "outputs": [
    {
     "name": "stdout",
     "output_type": "stream",
     "text": [
      "Iteration:  0\n",
      "W:\n",
      "  [[-1.6664070e-03]\n",
      " [-4.6392418e-03]\n",
      " [-2.0645149e-03]\n",
      " [ 6.5139993e-06]] \n",
      "b:\n",
      "  [-3.0596e-05] \n",
      "Loss:\n",
      "  0.67211884\n",
      "Iteration:  10000\n",
      "W:\n",
      "  [[-0.05638617]\n",
      " [ 0.01239887]\n",
      " [ 0.00555595]\n",
      " [ 0.08363133]] \n",
      "b:\n",
      "  [-0.02034446] \n",
      "Loss:\n",
      "  0.628496\n",
      "Iteration:  20000\n",
      "W:\n",
      "  [[-0.05603248]\n",
      " [ 0.0123798 ]\n",
      " [ 0.00551234]\n",
      " [ 0.16401199]] \n",
      "b:\n",
      "  [-0.04050766] \n",
      "Loss:\n",
      "  0.6250618\n",
      "Iteration:  30000\n",
      "W:\n",
      "  [[-0.05569918]\n",
      " [ 0.01236669]\n",
      " [ 0.00547159]\n",
      " [ 0.24146733]] \n",
      "b:\n",
      "  [-0.06058437] \n",
      "Loss:\n",
      "  0.6218602\n",
      "Iteration:  40000\n",
      "W:\n",
      "  [[-0.05538781]\n",
      " [ 0.01236018]\n",
      " [ 0.00543364]\n",
      " [ 0.31608143]] \n",
      "b:\n",
      "  [-0.08057716] \n",
      "Loss:\n",
      "  0.61887646\n",
      "Iteration:  50000\n",
      "W:\n",
      "  [[-0.05509511]\n",
      " [ 0.01235936]\n",
      " [ 0.00539827]\n",
      " [ 0.3879369 ]] \n",
      "b:\n",
      "  [-0.10048743] \n",
      "Loss:\n",
      "  0.6160963\n",
      "Iteration:  60000\n",
      "W:\n",
      "  [[-0.05482235]\n",
      " [ 0.01236475]\n",
      " [ 0.00536542]\n",
      " [ 0.4571186 ]] \n",
      "b:\n",
      "  [-0.12031679] \n",
      "Loss:\n",
      "  0.61350626\n",
      "Iteration:  70000\n",
      "W:\n",
      "  [[-0.05456605]\n",
      " [ 0.01237527]\n",
      " [ 0.00533489]\n",
      " [ 0.5237312 ]] \n",
      "b:\n",
      "  [-0.14005792] \n",
      "Loss:\n",
      "  0.61109275\n",
      "Iteration:  80000\n",
      "W:\n",
      "  [[-0.0543276 ]\n",
      " [ 0.01239156]\n",
      " [ 0.00530657]\n",
      " [ 0.58785254]] \n",
      "b:\n",
      "  [-0.15972745] \n",
      "Loss:\n",
      "  0.6088434\n",
      "Iteration:  90000\n",
      "W:\n",
      "  [[-0.05410348]\n",
      " [ 0.01241259]\n",
      " [ 0.00528024]\n",
      " [ 0.6495678 ]] \n",
      "b:\n",
      "  [-0.17932801] \n",
      "Loss:\n",
      "  0.60674655\n",
      "final W:  [[-0.05389499]\n",
      " [ 0.01243871]\n",
      " [ 0.00525585]\n",
      " [ 0.7089657 ]]\n",
      "final b:  [-0.19884658]\n",
      "final Loss:  0.6047912\n"
     ]
    }
   ],
   "source": [
    "steps = 100000\n",
    "\n",
    "with tf.Session() as sess:\n",
    "    # sess = tf.Session()\n",
    "    sess.run(tf.global_variables_initializer())\n",
    "    for i in range(steps):\n",
    "        sess.run(update,feed_dict={X: data_x, Y : data_y})\n",
    "        if i%10000 == 0:\n",
    "            print('Iteration: ',i)\n",
    "            # eval evaluates the value of a variable. Therefore, K. eval(loss) gives you the value of the crossentropy loss\n",
    "            print('W:\\n ',sess.run(W), '\\nb:\\n ', sess.run(b), '\\nLoss:\\n ',loss.eval(session=sess, feed_dict={X:data_x,Y:data_y}))\n",
    "    Weight = sess.run(W) # Optimized Weight\n",
    "    Bias = sess.run(b)   # Optimized Bias\n",
    "    print('final W: ',sess.run(W))\n",
    "    print('final b: ',sess.run(b))\n",
    "    print('final Loss: ',loss.eval(session=sess, feed_dict={X:data_x,Y:data_y}))"
   ]
  },
  {
   "cell_type": "code",
   "execution_count": 28,
   "id": "1b2e6a28",
   "metadata": {},
   "outputs": [],
   "source": [
    "'''\n",
    "preparing for testing, checking results using confusion matrix\n",
    "text_x - 20k examples \n",
    "test_y - 20k labels\n",
    "'''\n",
    "test_x = testing_set.drop(columns='gender').to_numpy()\n",
    "test_y = testing_set.drop(columns=['age', 'weight','height','smoke']).to_numpy()\n",
    "\n",
    "#logistic regression function for prediction\n",
    "# z is a vector containing 4 features [age, height, weight, smoke]\n",
    "def logistic_fun(z):\n",
    "    return 1/(1.0+np.exp(-z))\n",
    "\n",
    "# predicted will be a vector of the prediction of the testing_set\n",
    "predicted = []\n",
    "\n",
    "#looping each vector in text_x matrix\n",
    "for vec in test_x:\n",
    "    pr = logistic_fun(np.matmul([vec],Weight)+Bias)\n",
    "    predicted.append(1) if pr >= 0.5 else predicted.append(0)       "
   ]
  },
  {
   "cell_type": "code",
   "execution_count": 29,
   "id": "e15282a4",
   "metadata": {},
   "outputs": [],
   "source": [
    "'''\n",
    "peparing labeled data for the confusion matrix\n",
    "'''\n",
    "actual = test_y.flatten()"
   ]
  },
  {
   "cell_type": "code",
   "execution_count": 30,
   "id": "82a35c8c",
   "metadata": {},
   "outputs": [],
   "source": [
    "y_actu = pd.Series(actual, name='Actual')\n",
    "y_pred = pd.Series(predicted, name='Predicted')\n",
    "df_confusion = pd.crosstab(y_actu, y_pred,rownames=['Actual'], colnames=['Predicted'], margins=True)"
   ]
  },
  {
   "cell_type": "code",
   "execution_count": 31,
   "id": "77331133",
   "metadata": {},
   "outputs": [
    {
     "data": {
      "text/html": [
       "<div>\n",
       "<style scoped>\n",
       "    .dataframe tbody tr th:only-of-type {\n",
       "        vertical-align: middle;\n",
       "    }\n",
       "\n",
       "    .dataframe tbody tr th {\n",
       "        vertical-align: top;\n",
       "    }\n",
       "\n",
       "    .dataframe thead th {\n",
       "        text-align: right;\n",
       "    }\n",
       "</style>\n",
       "<table border=\"1\" class=\"dataframe\">\n",
       "  <thead>\n",
       "    <tr style=\"text-align: right;\">\n",
       "      <th>Predicted</th>\n",
       "      <th>0</th>\n",
       "      <th>1</th>\n",
       "      <th>All</th>\n",
       "    </tr>\n",
       "    <tr>\n",
       "      <th>Actual</th>\n",
       "      <th></th>\n",
       "      <th></th>\n",
       "      <th></th>\n",
       "    </tr>\n",
       "  </thead>\n",
       "  <tbody>\n",
       "    <tr>\n",
       "      <th>0</th>\n",
       "      <td>12386</td>\n",
       "      <td>495</td>\n",
       "      <td>12881</td>\n",
       "    </tr>\n",
       "    <tr>\n",
       "      <th>1</th>\n",
       "      <td>5608</td>\n",
       "      <td>1511</td>\n",
       "      <td>7119</td>\n",
       "    </tr>\n",
       "    <tr>\n",
       "      <th>All</th>\n",
       "      <td>17994</td>\n",
       "      <td>2006</td>\n",
       "      <td>20000</td>\n",
       "    </tr>\n",
       "  </tbody>\n",
       "</table>\n",
       "</div>"
      ],
      "text/plain": [
       "Predicted      0     1    All\n",
       "Actual                       \n",
       "0          12386   495  12881\n",
       "1           5608  1511   7119\n",
       "All        17994  2006  20000"
      ]
     },
     "execution_count": 31,
     "metadata": {},
     "output_type": "execute_result"
    }
   ],
   "source": [
    "df_confusion"
   ]
  },
  {
   "cell_type": "code",
   "execution_count": 32,
   "id": "cbbab983",
   "metadata": {},
   "outputs": [
    {
     "data": {
      "image/png": "[encoded data removed]",
      "text/plain": [
       "<Figure size 432x288 with 2 Axes>"
      ]
     },
     "metadata": {
      "needs_background": "light"
     },
     "output_type": "display_data"
    }
   ],
   "source": [
    "'''\n",
    "We let the model predict some samples and then show on a confusion matrix plot the results.\n",
    "All results such as classification report, confusion matrix and plot, are saved into a \n",
    "time stamped directory under reports/ \n",
    "'''\n",
    "predictions = predicted\n",
    "true_labels = actual\n",
    "cf_matrix = pd.crosstab(y_actu, y_pred)\n",
    "\n",
    "heatmap = sns.heatmap(cf_matrix, annot=True, cmap='Blues', fmt='g', \n",
    "                      xticklabels=np.unique(true_labels), \n",
    "                      yticklabels=np.unique(true_labels)) "
   ]
  },
  {
   "cell_type": "code",
   "execution_count": 33,
   "id": "f704e368",
   "metadata": {},
   "outputs": [],
   "source": [
    "accuracy = np.sum(np.equal(actual,predicted))/len(actual)"
   ]
  },
  {
   "cell_type": "code",
   "execution_count": 34,
   "id": "52f4096c",
   "metadata": {},
   "outputs": [
    {
     "data": {
      "text/plain": [
       "0.69485"
      ]
     },
     "execution_count": 34,
     "metadata": {},
     "output_type": "execute_result"
    }
   ],
   "source": [
    "accuracy"
   ]
  }
 ],
 "metadata": {
  "kernelspec": {
   "display_name": "nlpenv",
   "language": "python",
   "name": "nlpenv"
  },
  "language_info": {
   "codemirror_mode": {
    "name": "ipython",
    "version": 3
   },
   "file_extension": ".py",
   "mimetype": "text/x-python",
   "name": "python",
   "nbconvert_exporter": "python",
   "pygments_lexer": "ipython3",
   "version": "3.8.6"
  }
 },
 "nbformat": 4,
 "nbformat_minor": 5
}
