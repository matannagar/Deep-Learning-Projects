{
 "cells": [
  {
   "cell_type": "code",
   "execution_count": 1,
   "id": "7e4f0e03",
   "metadata": {},
   "outputs": [],
   "source": [
    "# Imports\n",
    "%matplotlib inline\n",
    "import pandas as pd\n",
    "pd.options.mode.chained_assignment = None\n",
    "import numpy as np\n",
    "import matplotlib.pyplot as plt\n",
    "import seaborn as sns\n",
    "from scipy.stats import norm\n",
    "from sklearn.preprocessing import StandardScaler\n",
    "from scipy import stats\n",
    "import warnings"
   ]
  },
  {
   "cell_type": "code",
   "execution_count": null,
   "id": "026a486c",
   "metadata": {},
   "outputs": [],
   "source": [
    "# !pip install plotly"
   ]
  },
  {
   "cell_type": "code",
   "execution_count": 2,
   "id": "e6a0f51e",
   "metadata": {},
   "outputs": [],
   "source": [
    "# file path - this for linux windows you will need \"//\"\n",
    "f_path = \"cardio_train.csv\"\n",
    "'''\n",
    "record ID - The unique identifier for each connection record.\n",
    "duration_  This feature denotes the number of seconds (rounded) of the connection. For example, a connection for 0.17s or 0.3s would be indicated with a “0” in this field.\n",
    "src_bytes This field represents the number of data bytes transferred from the source to the destination (i.e., the amount of out-going bytes from the host).\n",
    "dst_bytes This feature represents the number of data bytes transferred from the destination to the source (i.e., the amount of bytes received by the host).\n",
    "'''\n",
    "df = pd.read_csv(f_path,sep = ';',index_col=0)"
   ]
  },
  {
   "cell_type": "code",
   "execution_count": 3,
   "id": "e02bc953",
   "metadata": {},
   "outputs": [],
   "source": [
    "df2 = df[['age','gender','height','weight','smoke']]\n",
    "df2['gender'] = df2['gender'].replace({1:0,2:1})"
   ]
  },
  {
   "cell_type": "code",
   "execution_count": 4,
   "id": "a066cab3",
   "metadata": {},
   "outputs": [],
   "source": [
    "df2['age'] = df['age'].apply(lambda x: x/360)"
   ]
  },
  {
   "cell_type": "code",
   "execution_count": 5,
   "id": "a60e8286",
   "metadata": {},
   "outputs": [
    {
     "data": {
      "text/plain": [
       "(             age  gender  height  weight  smoke\n",
       " id                                             \n",
       " 0      51.091667       1     168    62.0      0\n",
       " 1      56.188889       0     156    85.0      0\n",
       " 2      52.380556       0     165    64.0      0\n",
       " 3      48.952778       1     169    82.0      0\n",
       " 4      48.538889       0     156    56.0      0\n",
       " ...          ...     ...     ...     ...    ...\n",
       " 99993  53.444444       1     168    76.0      1\n",
       " 99995  62.780556       0     158   126.0      0\n",
       " 99996  52.961111       1     183   105.0      0\n",
       " 99998  62.308333       0     163    72.0      0\n",
       " 99999  57.055556       0     170    72.0      0\n",
       " \n",
       " [70000 rows x 5 columns],\n",
       " 0    45530\n",
       " 1    24470\n",
       " Name: gender, dtype: int64)"
      ]
     },
     "execution_count": 5,
     "metadata": {},
     "output_type": "execute_result"
    }
   ],
   "source": [
    "df2,df2['gender'].value_counts()"
   ]
  },
  {
   "cell_type": "code",
   "execution_count": 16,
   "id": "9ea57350",
   "metadata": {},
   "outputs": [
    {
     "data": {
      "text/plain": [
       "'4D Plot.html'"
      ]
     },
     "execution_count": 16,
     "metadata": {},
     "output_type": "execute_result"
    }
   ],
   "source": [
    "import pandas as pd\n",
    "import plotly\n",
    "import plotly.graph_objs as go\n",
    "\n",
    "\n",
    "#Read cars data from csv\n",
    "data = df2.head(20000)\n",
    "\n",
    "#Set marker properties\n",
    "markercolor = data['smoke']\n",
    "\n",
    "#Make Plotly figure\n",
    "fig1 = go.Scatter3d(x=data['age'],\n",
    "                    y=data['weight'],\n",
    "                    z=data['height'],\n",
    "                    marker=dict(size=markersize,\n",
    "                                color=markercolor,\n",
    "                                opacity=0.9,\n",
    "                                reversescale=True,\n",
    "                                colorscale='Blues'),\n",
    "                    line=dict (width=0.02),\n",
    "                    mode='markers')\n",
    "\n",
    "#Make Plot.ly Layout\n",
    "mylayout = go.Layout(scene=dict(xaxis=dict( title=\"age\"),\n",
    "                                yaxis=dict( title=\"weight\"),\n",
    "                                zaxis=dict(title=\"height\")),)\n",
    "\n",
    "#Plot and save html\n",
    "plotly.offline.plot({\"data\": [fig1],\n",
    "                     \"layout\": mylayout},\n",
    "                     auto_open=True,\n",
    "                     filename=(\"4D Plot.html\"))"
   ]
  },
  {
   "cell_type": "code",
   "execution_count": null,
   "id": "75145744",
   "metadata": {},
   "outputs": [],
   "source": []
  }
 ],
 "metadata": {
  "kernelspec": {
   "display_name": "nlpenv",
   "language": "python",
   "name": "nlpenv"
  },
  "language_info": {
   "codemirror_mode": {
    "name": "ipython",
    "version": 3
   },
   "file_extension": ".py",
   "mimetype": "text/x-python",
   "name": "python",
   "nbconvert_exporter": "python",
   "pygments_lexer": "ipython3",
   "version": "3.8.6"
  }
 },
 "nbformat": 4,
 "nbformat_minor": 5
}
